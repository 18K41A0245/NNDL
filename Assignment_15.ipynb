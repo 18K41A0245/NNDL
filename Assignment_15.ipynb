{
  "nbformat": 4,
  "nbformat_minor": 0,
  "metadata": {
    "colab": {
      "name": "Assignment_15.ipynb",
      "provenance": [],
      "authorship_tag": "ABX9TyMCo8NXccRdeVbM/MPqfZsB",
      "include_colab_link": true
    },
    "kernelspec": {
      "name": "python3",
      "display_name": "Python 3"
    },
    "language_info": {
      "name": "python"
    }
  },
  "cells": [
    {
      "cell_type": "markdown",
      "metadata": {
        "id": "view-in-github",
        "colab_type": "text"
      },
      "source": [
        "<a href=\"https://colab.research.google.com/github/18K41A0245/NNDL/blob/main/Assignment_15.ipynb\" target=\"_parent\"><img src=\"https://colab.research.google.com/assets/colab-badge.svg\" alt=\"Open In Colab\"/></a>"
      ]
    },
    {
      "cell_type": "code",
      "metadata": {
        "colab": {
          "base_uri": "https://localhost:8080/",
          "height": 173
        },
        "id": "SKRfI5UGm4nl",
        "outputId": "7d7ad9ba-92de-4cce-cb9c-8d5e994765de"
      },
      "source": [
        "#RMS Prop\n",
        "import pandas as pd\n",
        "data = {\"X\": [0.2, 0.4, 0.6, 0.8], \"Y\": [3.4, 3.8, 4.2, 4.6]}\n",
        "d = pd.DataFrame(data)\n",
        "d "
      ],
      "execution_count": 1,
      "outputs": [
        {
          "output_type": "execute_result",
          "data": {
            "text/html": [
              "<div>\n",
              "<style scoped>\n",
              "    .dataframe tbody tr th:only-of-type {\n",
              "        vertical-align: middle;\n",
              "    }\n",
              "\n",
              "    .dataframe tbody tr th {\n",
              "        vertical-align: top;\n",
              "    }\n",
              "\n",
              "    .dataframe thead th {\n",
              "        text-align: right;\n",
              "    }\n",
              "</style>\n",
              "<table border=\"1\" class=\"dataframe\">\n",
              "  <thead>\n",
              "    <tr style=\"text-align: right;\">\n",
              "      <th></th>\n",
              "      <th>X</th>\n",
              "      <th>Y</th>\n",
              "    </tr>\n",
              "  </thead>\n",
              "  <tbody>\n",
              "    <tr>\n",
              "      <th>0</th>\n",
              "      <td>0.2</td>\n",
              "      <td>3.4</td>\n",
              "    </tr>\n",
              "    <tr>\n",
              "      <th>1</th>\n",
              "      <td>0.4</td>\n",
              "      <td>3.8</td>\n",
              "    </tr>\n",
              "    <tr>\n",
              "      <th>2</th>\n",
              "      <td>0.6</td>\n",
              "      <td>4.2</td>\n",
              "    </tr>\n",
              "    <tr>\n",
              "      <th>3</th>\n",
              "      <td>0.8</td>\n",
              "      <td>4.6</td>\n",
              "    </tr>\n",
              "  </tbody>\n",
              "</table>\n",
              "</div>"
            ],
            "text/plain": [
              "     X    Y\n",
              "0  0.2  3.4\n",
              "1  0.4  3.8\n",
              "2  0.6  4.2\n",
              "3  0.8  4.6"
            ]
          },
          "metadata": {
            "tags": []
          },
          "execution_count": 1
        }
      ]
    },
    {
      "cell_type": "code",
      "metadata": {
        "colab": {
          "base_uri": "https://localhost:8080/"
        },
        "id": "XLxp6visnAzu",
        "outputId": "9f85b4e4-723e-4625-e9a5-6e3f60d060ce"
      },
      "source": [
        "from sympy import *\n",
        "m = 1\n",
        "c = -1\n",
        "n = 0.1\n",
        "Em = 0\n",
        "Ec = 0\n",
        "g = 0.9\n",
        "e = 10 ** -8\n",
        "epochs = 100\n",
        "x = symbols('x')\n",
        "y = symbols('y')\n",
        "ns = len(d)\n",
        "for i in range(epochs):\n",
        "      for j in range(ns):\n",
        "        gm = - (y - m * x - c) * x\n",
        "        gc = - (y - m * x - c)\n",
        "        #print(j)\n",
        "        x1 = d.iloc[j,0]\n",
        "        y1 = d.iloc[j,1]\n",
        "        gm1 = gm.subs([(x,x1),(y,y1)])\n",
        "        gc1 = gc.subs([(x,x1),(y,y1)])\n",
        "        new_Em = (g * Em) + ((1 - g) * (gm1 ** 2))\n",
        "        new_Ec = (g * Ec) + ((1 - g) * (gc1 ** 2))\n",
        "        delta_m = ((-n) / ((new_Em + e) ** 0.5)) * gm1\n",
        "        delta_c = ((-n) / ((new_Ec + e) ** 0.5)) * gc1\n",
        "        new_m = m + delta_m\n",
        "        new_c = c + delta_c\n",
        "        Em = new_Em\n",
        "        Ec = new_Ec\n",
        "        m = new_m\n",
        "        c = new_c\n",
        "        #print(m,c)\n",
        "m = round(m, 2)\n",
        "c = round(c, 2)\n",
        "print(\"final m value= \", m)\n",
        "print(\"final c value= \", c)"
      ],
      "execution_count": 2,
      "outputs": [
        {
          "output_type": "stream",
          "text": [
            "final m value=  1.86\n",
            "final c value=  3.01\n"
          ],
          "name": "stdout"
        }
      ]
    },
    {
      "cell_type": "code",
      "metadata": {
        "colab": {
          "base_uri": "https://localhost:8080/"
        },
        "id": "_utJCD9YnFFQ",
        "outputId": "0b3f8f0b-d1fb-4094-d966-9d3e142e45f5"
      },
      "source": [
        "x = list(d['X'])\n",
        "y = list(d['Y'])\n",
        "yp = []\n",
        "for i in x:\n",
        "    yp.append(m * i + c)\n",
        "s = 0\n",
        "for i in range(ns):\n",
        "    s += (y[i] - yp[i]) ** 2\n",
        "mse = s / ns\n",
        "print(f\"mean squared error = {mse}\")"
      ],
      "execution_count": 3,
      "outputs": [
        {
          "output_type": "stream",
          "text": [
            "mean squared error = 0.00460020899772640\n"
          ],
          "name": "stdout"
        }
      ]
    }
  ]
}