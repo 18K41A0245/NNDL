{
  "nbformat": 4,
  "nbformat_minor": 0,
  "metadata": {
    "colab": {
      "name": "Assignment03.ipynb",
      "provenance": [],
      "authorship_tag": "ABX9TyMsWLglItXgS1AzyBQ7cGxh",
      "include_colab_link": true
    },
    "kernelspec": {
      "name": "python3",
      "display_name": "Python 3"
    },
    "language_info": {
      "name": "python"
    }
  },
  "cells": [
    {
      "cell_type": "markdown",
      "metadata": {
        "id": "view-in-github",
        "colab_type": "text"
      },
      "source": [
        "<a href=\"https://colab.research.google.com/github/18K41A0245/NNDL/blob/main/Assignment03.ipynb\" target=\"_parent\"><img src=\"https://colab.research.google.com/assets/colab-badge.svg\" alt=\"Open In Colab\"/></a>"
      ]
    },
    {
      "cell_type": "markdown",
      "metadata": {
        "id": "KT7FLVRps8cQ"
      },
      "source": [
        "develop a simple linear regression using schotistic gradient descent optimizer"
      ]
    },
    {
      "cell_type": "code",
      "metadata": {
        "colab": {
          "base_uri": "https://localhost:8080/"
        },
        "id": "ctA9xIMDs84o",
        "outputId": "9e7b579a-7e88-4f66-9de4-29c1e246b208"
      },
      "source": [
        "import pandas as pd\n",
        "from sympy import *\n",
        "d = [[0.2,3.4],[0.4,3.8],[0.6,4.2],[0.8,4.6]]\n",
        "print(d)\n",
        "df = pd.DataFrame(d1, columns=(\"X\", \"Y\"))\n",
        "print(df)\n",
        "m = 1\n",
        "c = -1\n",
        "n = 0.1\n",
        "epochs = 2\n",
        "x = symbols('x')\n",
        "y = symbols('y')\n",
        "l = len(df)\n",
        "for i in range(epochs):\n",
        "  for j in range(l):\n",
        "    dm = -(y - m * x - c) * x\n",
        "    dc = -(y - m * x - c)\n",
        "    print(j)\n",
        "    x1 = df.iloc[j,0]\n",
        "    y1 = df.iloc[j,1]\n",
        "    dm1 = dm.subs([(x,x1),(y,y1)])\n",
        "    dc1 = dc.subs([(x,x1),(y,y1)])\n",
        "    delta_m = -n * dm1\n",
        "    delta_c = -n * dc1\n",
        "    new_m = m + delta_m\n",
        "    new_c = c + delta_c\n",
        "    m = new_m\n",
        "    c = new_c\n",
        "    print(m,c)\n",
        "print(\"final m value = \", m)\n",
        "print(\"final c value = \", c)"
      ],
      "execution_count": null,
      "outputs": [
        {
          "output_type": "stream",
          "text": [
            "[[0.2, 3.4], [0.4, 3.8], [0.6, 4.2], [0.8, 4.6]]\n",
            "     X    Y\n",
            "0  0.2  3.4\n",
            "1  0.4  3.8\n",
            "2  0.6  4.2\n",
            "3  0.8  4.6\n",
            "0\n",
            "1.08400000000000 -0.580000000000000\n",
            "1\n",
            "1.24185600000000 -0.185360000000000\n",
            "2\n",
            "1.46027078400000 0.178664640000000\n",
            "3\n",
            "1.72052028262400 0.503976513280000\n",
            "0\n",
            "1.77155867122790 0.759168456299520\n",
            "1\n",
            "1.86484699423628 0.992389263820452\n",
            "2\n",
            "1.99016914661454 1.20125951778423\n",
            "3\n",
            "2.13469755980847 1.38192003427664\n",
            "final m value =  2.13469755980847\n",
            "final c value =  1.38192003427664\n"
          ],
          "name": "stdout"
        }
      ]
    }
  ]
}