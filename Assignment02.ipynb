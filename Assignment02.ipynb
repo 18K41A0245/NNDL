{
  "nbformat": 4,
  "nbformat_minor": 0,
  "metadata": {
    "colab": {
      "name": "Assignment02.ipynb",
      "provenance": [],
      "authorship_tag": "ABX9TyOhn1WJTKPHRn7ppfNCxfeO",
      "include_colab_link": true
    },
    "kernelspec": {
      "name": "python3",
      "display_name": "Python 3"
    },
    "language_info": {
      "name": "python"
    }
  },
  "cells": [
    {
      "cell_type": "markdown",
      "metadata": {
        "id": "view-in-github",
        "colab_type": "text"
      },
      "source": [
        "<a href=\"https://colab.research.google.com/github/18K41A0245/NNDL/blob/main/Assignment02.ipynb\" target=\"_parent\"><img src=\"https://colab.research.google.com/assets/colab-badge.svg\" alt=\"Open In Colab\"/></a>"
      ]
    },
    {
      "cell_type": "markdown",
      "metadata": {
        "id": "ErXxXg4Wk7K0"
      },
      "source": [
        "Find the global minimum point and value for the function f(x,y)=x^2+y^2+10"
      ]
    },
    {
      "cell_type": "code",
      "metadata": {
        "colab": {
          "base_uri": "https://localhost:8080/"
        },
        "id": "ScdBIhJlmiy6",
        "outputId": "e3643981-eb25-4bcb-ff9d-854a47d7794f"
      },
      "source": [
        "from sympy import *\n",
        "x = symbols('x')\n",
        "y = symbols('y')\n",
        "f = x ** 2 + y ** 2 + 10\n",
        "dx = diff(f, x)\n",
        "dy = diff(f,y) \n",
        "print(\"df/dx: \", dx)\n",
        "print(\"df/dy: \", dy)\n",
        "X = int(input(\"enter x value:\"))\n",
        "Y = int(input(\"enter y value:\"))\n",
        "itr = 1 \n",
        "n = 0.1 \n",
        "epoch = 2\n",
        "while (itr <= epoch) :\n",
        "   x1 = dx.subs(x, X)\n",
        "   y1 = dy.subs(y, Y)\n",
        "   print(f\"differentiation of f({X}) = \", x1)\n",
        "   print(f\"differentiation of f({Y}) = \", y1)\n",
        "   delta_x = -n * x1\n",
        "   delta_y = -n * y1\n",
        "   print(\"delta(x) = \", delta_x)\n",
        "   print(\"delta(y) = \", delta_y)\n",
        "   new_x = X + delta_x\n",
        "   new_y = Y + delta_y\n",
        "   print(\"new x = \", new_x)\n",
        "   print(\"new y = \", new_y)\n",
        "   itr = itr + 1\n",
        "   X = new_x\n",
        "   Y = new_y\n",
        "print(\"final x = \", X)\n",
        "print(\"final y = \", Y)\n",
        "print(\"Minimum value is: \", f.subs([(x,X),(y,Y)]))"
      ],
      "execution_count": null,
      "outputs": [
        {
          "output_type": "stream",
          "text": [
            "df/dx:  2*x\n",
            "df/dy:  2*y\n",
            "enter x value:-1\n",
            "enter y value:1\n",
            "differentiation of f(-1) =  -2\n",
            "differentiation of f(1) =  2\n",
            "delta(x) =  0.200000000000000\n",
            "delta(y) =  -0.200000000000000\n",
            "new x =  -0.800000000000000\n",
            "new y =  0.800000000000000\n",
            "differentiation of f(-0.800000000000000) =  -1.60000000000000\n",
            "differentiation of f(0.800000000000000) =  1.60000000000000\n",
            "delta(x) =  0.160000000000000\n",
            "delta(y) =  -0.160000000000000\n",
            "new x =  -0.640000000000000\n",
            "new y =  0.640000000000000\n",
            "final x =  -0.640000000000000\n",
            "final y =  0.640000000000000\n",
            "Minimum value is:  10.8192000000000\n"
          ],
          "name": "stdout"
        }
      ]
    }
  ]
}