{
  "nbformat": 4,
  "nbformat_minor": 0,
  "metadata": {
    "colab": {
      "name": "Assignment_13.ipynb",
      "provenance": [],
      "authorship_tag": "ABX9TyO7oLI/iIMxwgaLDiyvQQ+S",
      "include_colab_link": true
    },
    "kernelspec": {
      "name": "python3",
      "display_name": "Python 3"
    },
    "language_info": {
      "name": "python"
    }
  },
  "cells": [
    {
      "cell_type": "markdown",
      "metadata": {
        "id": "view-in-github",
        "colab_type": "text"
      },
      "source": [
        "<a href=\"https://colab.research.google.com/github/18K41A0245/NNDL/blob/main/Assignment_13.ipynb\" target=\"_parent\"><img src=\"https://colab.research.google.com/assets/colab-badge.svg\" alt=\"Open In Colab\"/></a>"
      ]
    },
    {
      "cell_type": "code",
      "metadata": {
        "colab": {
          "base_uri": "https://localhost:8080/",
          "height": 173
        },
        "id": "A9wyO1pVkXNX",
        "outputId": "9c321d27-f585-4f4a-8798-729e8a81bb23"
      },
      "source": [
        "#ADAGRAD\n",
        "import pandas as pd\n",
        "data = {\"X\": [0.2, 0.4, 0.6, 0.8], \"Y\": [3.4, 3.8, 4.2, 4.6]}\n",
        "d = pd.DataFrame(data)\n",
        "d "
      ],
      "execution_count": 1,
      "outputs": [
        {
          "output_type": "execute_result",
          "data": {
            "text/html": [
              "<div>\n",
              "<style scoped>\n",
              "    .dataframe tbody tr th:only-of-type {\n",
              "        vertical-align: middle;\n",
              "    }\n",
              "\n",
              "    .dataframe tbody tr th {\n",
              "        vertical-align: top;\n",
              "    }\n",
              "\n",
              "    .dataframe thead th {\n",
              "        text-align: right;\n",
              "    }\n",
              "</style>\n",
              "<table border=\"1\" class=\"dataframe\">\n",
              "  <thead>\n",
              "    <tr style=\"text-align: right;\">\n",
              "      <th></th>\n",
              "      <th>X</th>\n",
              "      <th>Y</th>\n",
              "    </tr>\n",
              "  </thead>\n",
              "  <tbody>\n",
              "    <tr>\n",
              "      <th>0</th>\n",
              "      <td>0.2</td>\n",
              "      <td>3.4</td>\n",
              "    </tr>\n",
              "    <tr>\n",
              "      <th>1</th>\n",
              "      <td>0.4</td>\n",
              "      <td>3.8</td>\n",
              "    </tr>\n",
              "    <tr>\n",
              "      <th>2</th>\n",
              "      <td>0.6</td>\n",
              "      <td>4.2</td>\n",
              "    </tr>\n",
              "    <tr>\n",
              "      <th>3</th>\n",
              "      <td>0.8</td>\n",
              "      <td>4.6</td>\n",
              "    </tr>\n",
              "  </tbody>\n",
              "</table>\n",
              "</div>"
            ],
            "text/plain": [
              "     X    Y\n",
              "0  0.2  3.4\n",
              "1  0.4  3.8\n",
              "2  0.6  4.2\n",
              "3  0.8  4.6"
            ]
          },
          "metadata": {
            "tags": []
          },
          "execution_count": 1
        }
      ]
    },
    {
      "cell_type": "code",
      "metadata": {
        "colab": {
          "base_uri": "https://localhost:8080/"
        },
        "id": "hoWhuJOTkifH",
        "outputId": "e2565938-ae50-4c90-abaf-9a83520e266d"
      },
      "source": [
        "from sympy import *\n",
        "m = 1\n",
        "c = -1\n",
        "n = 0.1\n",
        "Gm = 0\n",
        "Gc = 0\n",
        "e = 10 ** -8\n",
        "epochs = 100\n",
        "x = symbols('x')\n",
        "y = symbols('y')\n",
        "ns = len(d)\n",
        "for i in range(epochs):\n",
        "      for j in range(ns):\n",
        "        gm = - (y - m * x - c) * x\n",
        "        gc = - (y - m * x - c)\n",
        "        #print(j)\n",
        "        x1 = d.iloc[j,0]\n",
        "        y1 = d.iloc[j,1]\n",
        "        gm1 = gm.subs([(x,x1),(y,y1)])\n",
        "        gc1 = gc.subs([(x,x1),(y,y1)])\n",
        "        new_Gm = Gm+(gm1**2)\n",
        "        new_Gc = Gc+(gc1**2)\n",
        "        delta_m = ((-n) / ((new_Gm + e) ** 0.5)) * gm1\n",
        "        delta_c = ((-n) / ((new_Gc + e) ** 0.5)) * gc1\n",
        "        new_m = m + delta_m\n",
        "        new_c = c + delta_c\n",
        "        Gm = new_Gm\n",
        "        Gc = new_Gc\n",
        "        m = new_m\n",
        "        c = new_c\n",
        "        #print(m,c)\n",
        "m = round(m, 2)\n",
        "c = round(c, 2)\n",
        "print(\"final m value= \", m)\n",
        "print(\"final c value= \", c)"
      ],
      "execution_count": 3,
      "outputs": [
        {
          "output_type": "stream",
          "text": [
            "final m value=  3.45\n",
            "final c value=  1.66\n"
          ],
          "name": "stdout"
        }
      ]
    },
    {
      "cell_type": "code",
      "metadata": {
        "colab": {
          "base_uri": "https://localhost:8080/"
        },
        "id": "z_PcKefJksnv",
        "outputId": "540ffc4e-962e-4bce-c16f-6c9fa27c48fd"
      },
      "source": [
        "x = list(d['X'])\n",
        "y = list(d['Y'])\n",
        "yp = []\n",
        "for i in x:\n",
        "    yp.append(m * i + c)\n",
        "s = 0\n",
        "for i in range(ns):\n",
        "    s += (y[i] - yp[i]) ** 2\n",
        "mse = s / ns\n",
        "print(f\"mean squared error = {mse}\")"
      ],
      "execution_count": 4,
      "outputs": [
        {
          "output_type": "stream",
          "text": [
            "mean squared error = 0.483366310596466\n"
          ],
          "name": "stdout"
        }
      ]
    }
  ]
}