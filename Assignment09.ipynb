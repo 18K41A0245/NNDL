{
  "nbformat": 4,
  "nbformat_minor": 0,
  "metadata": {
    "colab": {
      "name": "Assignment09.ipynb",
      "provenance": [],
      "authorship_tag": "ABX9TyN2ILCdqjYAAb+Z0x+QIdef",
      "include_colab_link": true
    },
    "kernelspec": {
      "name": "python3",
      "display_name": "Python 3"
    },
    "language_info": {
      "name": "python"
    }
  },
  "cells": [
    {
      "cell_type": "markdown",
      "metadata": {
        "id": "view-in-github",
        "colab_type": "text"
      },
      "source": [
        "<a href=\"https://colab.research.google.com/github/18K41A0245/NNDL/blob/main/Assignment09.ipynb\" target=\"_parent\"><img src=\"https://colab.research.google.com/assets/colab-badge.svg\" alt=\"Open In Colab\"/></a>"
      ]
    },
    {
      "cell_type": "code",
      "metadata": {
        "colab": {
          "base_uri": "https://localhost:8080/"
        },
        "id": "Zm078xWpVN31",
        "outputId": "91962cc0-34a2-41cc-e2d4-f3f9b4fa427b"
      },
      "source": [
        "import pandas as pd\n",
        "from sympy import *\n",
        "d = [[0.2,3.4],[0.4,3.8],[0.6,4.2],[0.8,4.6]]\n",
        "df = pd.DataFrame(d,columns=(\"X\",\"Y\"))\n",
        "print(df)\n",
        "m = 1\n",
        "c = -1\n",
        "N = 0.1\n",
        "G = 0.9\n",
        "VM = 0\n",
        "VC = 0\n",
        "epochs = 2\n",
        "x = symbols('x')\n",
        "y = symbols('y')\n",
        "g = symbols('g')\n",
        "n = symbols('n')\n",
        "vm = symbols('vm')\n",
        "gm1 = symbols('gm1')\n",
        "vc = symbols('vc')\n",
        "l = len(df)\n",
        "for i in range(epochs):\n",
        "  for j in range(l):\n",
        "    gc1 = symbols('gc1')\n",
        "    gm = -(y - m * x - c) * x\n",
        "    gc = -(y - m * x - c)\n",
        "    vm1 = g * vm - n * gm1\n",
        "    vc1 = g * vc - n * gc1\n",
        "    print(j)\n",
        "    x1 = df.iloc[j,0]\n",
        "    y1 = df.iloc[j,1]\n",
        "    gm2 = gm.subs([(x,x1),(y,y1)])\n",
        "    gc2 = gc.subs([(x,x1),(y,y1)])\n",
        "    vm2 = vm1.subs([(g,G),(vm,VM),(n,N),(gm1,gm2)])\n",
        "    vc2 = vc1.subs([(g,G),(vc,VC),(n,N),(gc1,gc2)])\n",
        "    new_m = m + vm2\n",
        "    new_c = c + vc2\n",
        "    m = new_m\n",
        "    c = new_c\n",
        "    print(\"m = \", m, \"c = \", c)\n",
        "print(\"final m value = \", m)\n",
        "print(\"final c value = \", c)"
      ],
      "execution_count": null,
      "outputs": [
        {
          "output_type": "stream",
          "text": [
            "     X    Y\n",
            "0  0.2  3.4\n",
            "1  0.4  3.8\n",
            "2  0.6  4.2\n",
            "3  0.8  4.6\n",
            "0\n",
            "m =  1.08400000000000 c =  -0.580000000000000\n",
            "1\n",
            "m =  1.24185600000000 c =  -0.185360000000000\n",
            "2\n",
            "m =  1.46027078400000 c =  0.178664640000000\n",
            "3\n",
            "m =  1.72052028262400 c =  0.503976513280000\n",
            "0\n",
            "m =  1.77155867122790 c =  0.759168456299520\n",
            "1\n",
            "m =  1.86484699423628 c =  0.992389263820452\n",
            "2\n",
            "m =  1.99016914661454 c =  1.20125951778423\n",
            "3\n",
            "m =  2.13469755980847 c =  1.38192003427664\n",
            "final m value =  2.13469755980847\n",
            "final c value =  1.38192003427664\n"
          ],
          "name": "stdout"
        }
      ]
    }
  ]
}